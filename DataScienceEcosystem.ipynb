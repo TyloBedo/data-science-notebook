{
 "cells": [
  {
   "cell_type": "markdown",
   "id": "4fa1a767-448a-433e-bec1-30c113727a5f",
   "metadata": {},
   "source": [
    "# Data Science Tools and Ecosystem"
   ]
  },
  {
   "cell_type": "markdown",
   "id": "12717312-fc6c-4b7c-a1cb-85720c4d29a6",
   "metadata": {},
   "source": [
    "In this notebook, Data Science Tools and Ecosystem are summarized."
   ]
  },
  {
   "cell_type": "markdown",
   "id": "9ed7b7ba-0e9e-4012-91bf-1ef738d768a0",
   "metadata": {},
   "source": [
    "__Objectives:__\n",
    "- List popular languages for Data Science\n",
    "- List commonly used libraries for Data Science\n",
    "- List commonly used open-source development tools for Data Science\n",
    "- Show basic examples of using Python to evaluate arithmetic expressions"
   ]
  },
  {
   "cell_type": "markdown",
   "id": "910d560e-2cc3-413a-93f1-ebcf1af644c6",
   "metadata": {},
   "source": [
    "#### Some of the popular languages that Data Scientists use are:\n",
    "1. Python\n",
    "2. R\n",
    "3. Julia"
   ]
  },
  {
   "cell_type": "markdown",
   "id": "7000bebe-afd0-4f27-b694-ff70ab8d811b",
   "metadata": {},
   "source": [
    "#### Some of the commonly used libraries used by Data Scientists include:\n",
    "1. NumPy\n",
    "2. Pandas\n",
    "3. TensorFlow"
   ]
  },
  {
   "cell_type": "markdown",
   "id": "b9074141-9261-41d4-8838-89f233fc960e",
   "metadata": {},
   "source": [
    "|Data Science Tools|\n",
    "|-|\n",
    "|VSCode|\n",
    "|Rstudio|\n",
    "|JupyterLab|\n"
   ]
  },
  {
   "cell_type": "markdown",
   "id": "2c0d67d6-33d6-4d50-afb7-d32049af2686",
   "metadata": {},
   "source": [
    "### Below are a few examples of evaluating arithmetic expressions in Python"
   ]
  },
  {
   "cell_type": "code",
   "execution_count": 1,
   "id": "3edf1a62-d8c0-41da-89ff-f07376235a94",
   "metadata": {
    "tags": []
   },
   "outputs": [
    {
     "data": {
      "text/plain": [
       "17"
      ]
     },
     "execution_count": 1,
     "metadata": {},
     "output_type": "execute_result"
    }
   ],
   "source": [
    "# This a simple arithmetic expression to mutiply then add integers\n",
    "(3*4)+5"
   ]
  },
  {
   "cell_type": "code",
   "execution_count": 3,
   "id": "fe5c6bc8-1f56-4895-9d82-48e2e345299d",
   "metadata": {
    "tags": []
   },
   "outputs": [
    {
     "name": "stdout",
     "output_type": "stream",
     "text": [
      "3.3333333333333335\n"
     ]
    }
   ],
   "source": [
    "# This will convert 200 minutes to hours by diving by 60\n",
    "minutes = 200\n",
    "hours = minutes/60\n",
    "print(hours)"
   ]
  },
  {
   "cell_type": "markdown",
   "id": "3844f735-746f-4f30-bd62-2b3f0e1ef926",
   "metadata": {},
   "source": [
    "## Author\n",
    "Tyler Brender"
   ]
  },
  {
   "cell_type": "code",
   "execution_count": null,
   "id": "42aa96d7-2d4e-4366-9afd-db02426900f9",
   "metadata": {},
   "outputs": [],
   "source": []
  }
 ],
 "metadata": {
  "kernelspec": {
   "display_name": "Python",
   "language": "python",
   "name": "conda-env-python-py"
  },
  "language_info": {
   "codemirror_mode": {
    "name": "ipython",
    "version": 3
   },
   "file_extension": ".py",
   "mimetype": "text/x-python",
   "name": "python",
   "nbconvert_exporter": "python",
   "pygments_lexer": "ipython3",
   "version": "3.7.12"
  }
 },
 "nbformat": 4,
 "nbformat_minor": 5
}
